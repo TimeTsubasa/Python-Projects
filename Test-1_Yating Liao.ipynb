{
 "cells": [
  {
   "cell_type": "markdown",
   "id": "1df56c79",
   "metadata": {},
   "source": [
    "### <p style=\"text-align: right;\"> &#9989; **Yating Liao** </p>"
   ]
  },
  {
   "cell_type": "code",
   "execution_count": 86,
   "id": "f6d034d8",
   "metadata": {},
   "outputs": [],
   "source": [
    "# Import the libraries\n",
    "import numpy as np\n",
    "import pandas as pd \n",
    "import matplotlib.pyplot as plt\n",
    "import seaborn as sns\n",
    "import warnings #to remove the warnings\n",
    "warnings.filterwarnings('ignore')"
   ]
  },
  {
   "cell_type": "code",
   "execution_count": 87,
   "id": "17ff8a79",
   "metadata": {},
   "outputs": [
    {
     "name": "stdout",
     "output_type": "stream",
     "text": [
      "   Sample code number  Clump Thickness  Uniformity of Cell Size  \\\n",
      "0             1000025                5                        1   \n",
      "1             1002945                5                        4   \n",
      "2             1015425                3                        1   \n",
      "3             1016277                6                        8   \n",
      "4             1017023                4                        1   \n",
      "5             1017122                8                       10   \n",
      "6             1018099                1                        1   \n",
      "7             1018561                2                        1   \n",
      "8             1033078                2                        1   \n",
      "9             1033078                4                        2   \n",
      "\n",
      "   Uniformity of Cell Shape  Marginal Adhesion  Single Epithelial Cell Size  \\\n",
      "0                         1                  1                            2   \n",
      "1                         4                  5                            7   \n",
      "2                         1                  1                            2   \n",
      "3                         8                  1                            3   \n",
      "4                         1                  3                            2   \n",
      "5                        10                  8                            7   \n",
      "6                         1                  1                            2   \n",
      "7                         2                  1                            2   \n",
      "8                         1                  1                            2   \n",
      "9                         1                  1                            2   \n",
      "\n",
      "   Bare Nuclei  Bland Chromatin  Normal Nucleoli  Mitoses  Class  \n",
      "0            1                3                1        1      2  \n",
      "1           10                3                2        1      2  \n",
      "2            2                3                1        1      2  \n",
      "3            4                3                7        1      2  \n",
      "4            1                3                1        1      2  \n",
      "5           10                9                7        1      4  \n",
      "6           10                3                1        1      2  \n",
      "7            1                3                1        1      2  \n",
      "8            1                1                1        5      2  \n",
      "9            1                2                1        1      2  \n"
     ]
    }
   ],
   "source": [
    "# Import the dataset\n",
    "Test1_1 = pd.read_csv(r'D:\\Caroline\\Documents\\Graduate\\ISE 530 Optimizaton for Analytics\\Test-1_ISE 530_Summer23.csv')\n",
    "print(Test1_1.head(10))"
   ]
  },
  {
   "cell_type": "code",
   "execution_count": 88,
   "id": "001726cb",
   "metadata": {},
   "outputs": [
    {
     "name": "stdout",
     "output_type": "stream",
     "text": [
      "Data of X: [[ 5  1  1 ...  3  1  1]\n",
      " [ 5  4  4 ...  3  2  1]\n",
      " [ 3  1  1 ...  3  1  1]\n",
      " ...\n",
      " [ 5 10 10 ...  8 10  2]\n",
      " [ 4  8  6 ... 10  6  1]\n",
      " [ 4  8  8 ... 10  4  1]]\n",
      "Data of Y: [2 2 2 2 2 4 2 2 2 2 2 2 4 2 4 4 2 2 4 2 4 4 2 2 4 2 2 2 2 2 2 4 2 2 2 4 2\n",
      " 4 4 4 4 4 4 2 4 2 2 4 4 4 4 4 4 4 4 4 4 4 4 2 4 4 2 4 2 4 4 2 2 4 2 4 4 2\n",
      " 2 2 2 2 2 2 2 2 4 4 4 4 2 2 2 2 2 2 2 2 2 2 4 4 4 4 2 4 4 4 4 4 2 4 2 4 4\n",
      " 4 2 2 2 4 2 2 2 2 4 4 4 2 4 2 4 2 2 2 4 2 2 2 2 2 2 2 2 4 2 2 4 2 2 4 2 4\n",
      " 4 2 2 4 2 2 4 4 2 2 2 2 4 4 2 2 2 2 2 4 4 4 2 4 2 4 2 2 2 4 4 2 4 4 4 2 4\n",
      " 4 2 2 2 2 2 2 2 2 4 4 2 2 2 4 4 2 2 2 4 4 2 4 4 4 2 2 4 2 2 4 4 4 4 2 4 4\n",
      " 2 4 4 4 2 4 2 4 4 4 4 2 2 2 2 2 2 4 4 2 2 4 2 4 4 4 2 2 2 2 4 4 4 4 4 2 4\n",
      " 4 4 2 4 2 4 4 2 2 2 2 4 2 2 4 4 4 4 4 2 4 4 2 2 4 4 2 2 4 4 2 4 2 4 4 2 2\n",
      " 4 2 2 2 4 2 2 4 4 2 2 4 2 4 2 2 4 2 4 4 4 2 2 4 4 2 4 2 2 4 4 2 2 2 4 2 2\n",
      " 2 4 4 2 2 2 4 2 2 4 4 4 4 4 4 2 2 2 2 4 4 2 2 2 2 2 2 2 2 2 2 2 2 2 4 2 2\n",
      " 2 2 4 2 2 2 2 4 2 2 2 2 2 2 2 2 4 2 2 2 2 2 2 2 2 2 2 4 2 4 2 4 2 2 2 2 4\n",
      " 2 2 2 4 2 4 2 2 2 2 2 2 2 4 4 2 2 2 4 2 2 2 2 2 2 2 2 4 2 2 2 4 2 4 4 4 2\n",
      " 2 2 2 2 2 2 4 4 4 2 2 2 2 2 2 2 2 2 2 2 4 2 2 4 4 2 2 2 4 4 4 2 4 2 4 2 2\n",
      " 2 2 2 2 2 2 2 2 2 2 4 2 2 2 2 2 2 2 4 4 2 2 2 4 2 2 4 4 2 2 2 2 2 2 4 2 2\n",
      " 2 2 2 2 2 2 2 2 2 2 2 2 2 4 2 2 4 2 2 2 2 2 2 2 2 2 2 2 2 2 2 2 4 2 2 4 4\n",
      " 4 4 2 2 4 2 2 2 2 2 2 4 4 2 2 2 4 2 4 2 4 4 4 2 4 2 2 2 2 2 2 2 2 4 4 4 2\n",
      " 2 4 2 4 4 4 2 2 2 2 2 2 2 2 2 2 2 2 4 2 2 2 2 2 2 4 2 2 4 2 2 2 2 2 2 2 2\n",
      " 2 2 2 4 2 2 2 2 2 2 2 2 2 4 2 2 2 2 2 2 2 2 2 4 4 4 2 2 2 2 2 2 2 2 2 4 4\n",
      " 2 2 2 2 2 2 2 2 2 4 2 2 2 2 4 4 4]\n"
     ]
    }
   ],
   "source": [
    "# Remove the first column which is Sample Code Number\n",
    "Test1_1.drop('Sample code number', axis=1, inplace=True)\n",
    "\n",
    "X = Test1_1.iloc[:,:-1].values # get columns except for the last one. \n",
    "print(\"Data of X:\",X)\n",
    "Y = Test1_1.iloc[:,-1].values # get the last one column which is class.\n",
    "print(\"Data of Y:\",Y)"
   ]
  },
  {
   "cell_type": "code",
   "execution_count": 89,
   "id": "bca2f3f3",
   "metadata": {},
   "outputs": [],
   "source": [
    "# We don't need to encode the dataset because the data size is similar\n",
    "\n",
    "# Spliting the dataset into training and testing set\n",
    "from sklearn.model_selection import train_test_split\n",
    "X_train, X_test, Y_train, Y_test = train_test_split(X,Y, test_size = 0.2, random_state = 0)"
   ]
  },
  {
   "cell_type": "code",
   "execution_count": 90,
   "id": "446f4ff7",
   "metadata": {
    "scrolled": true
   },
   "outputs": [
    {
     "name": "stdout",
     "output_type": "stream",
     "text": [
      "Normalized X train:           0         1         2         3         4         5         6  \\\n",
      "0  1.000000  0.000000  0.000000  0.000000  0.111111  1.000000  0.444444   \n",
      "1  0.000000  0.000000  0.000000  0.000000  0.000000  0.000000  0.222222   \n",
      "2  0.444444  0.000000  0.000000  0.000000  0.111111  0.000000  0.222222   \n",
      "3  0.222222  0.000000  0.111111  0.000000  0.111111  0.000000  0.111111   \n",
      "4  0.777778  0.111111  0.222222  0.000000  0.555556  0.222222  0.666667   \n",
      "5  0.000000  0.000000  0.000000  0.000000  0.111111  0.000000  0.222222   \n",
      "6  0.111111  0.000000  0.000000  0.000000  0.111111  0.000000  0.222222   \n",
      "7  0.333333  0.000000  0.000000  0.222222  0.000000  0.000000  0.111111   \n",
      "8  0.444444  0.666667  0.666667  0.000000  0.444444  0.777778  0.222222   \n",
      "9  0.777778  1.000000  1.000000  0.777778  0.555556  0.888889  0.222222   \n",
      "\n",
      "          7    8  \n",
      "0  0.333333  0.0  \n",
      "1  0.000000  0.0  \n",
      "2  0.000000  0.0  \n",
      "3  0.000000  0.0  \n",
      "4  0.000000  0.0  \n",
      "5  0.000000  0.0  \n",
      "6  0.000000  0.0  \n",
      "7  0.000000  0.0  \n",
      "8  0.333333  0.0  \n",
      "9  1.000000  1.0  \n",
      "Normalized X test:           0         1         2         3         4         5         6  \\\n",
      "0  0.000000  0.000000  0.000000  0.000000  0.111111  0.444444  0.000000   \n",
      "1  0.222222  0.000000  0.000000  0.000000  0.111111  0.000000  0.111111   \n",
      "2  0.444444  0.444444  0.444444  0.111111  0.444444  1.000000  0.333333   \n",
      "3  0.333333  0.666667  0.777778  0.222222  0.333333  1.000000  0.888889   \n",
      "4  0.000000  0.000000  0.000000  0.000000  0.111111  0.000000  0.000000   \n",
      "5  0.222222  0.222222  0.000000  0.000000  0.111111  0.000000  0.000000   \n",
      "6  0.444444  0.222222  0.000000  0.111111  0.111111  0.000000  0.111111   \n",
      "7  0.777778  1.000000  1.000000  1.000000  0.666667  0.444444  0.333333   \n",
      "8  0.000000  0.000000  0.000000  0.222222  0.000000  0.222222  0.000000   \n",
      "9  0.000000  0.000000  0.000000  0.000000  0.111111  0.000000  0.111111   \n",
      "\n",
      "          7         8  \n",
      "0  0.000000  0.000000  \n",
      "1  0.000000  0.000000  \n",
      "2  0.222222  0.000000  \n",
      "3  0.000000  0.000000  \n",
      "4  0.000000  0.000000  \n",
      "5  0.000000  0.000000  \n",
      "6  0.000000  0.000000  \n",
      "7  0.777778  0.666667  \n",
      "8  0.000000  0.000000  \n",
      "9  0.000000  0.000000  \n"
     ]
    }
   ],
   "source": [
    "# Feature Scaling--Normalization\n",
    "# I choose the normalization meathod\n",
    "\n",
    "from sklearn.preprocessing import MinMaxScaler\n",
    "# Create an instance of MinMaxScaler\n",
    "scaler = MinMaxScaler()\n",
    "X_train_normal = scaler.fit_transform(X_train)\n",
    "X_test_normal = scaler.fit_transform(X_test)\n",
    "X_train_normal = pd.DataFrame(X_train_normal)\n",
    "X_test_normal = pd.DataFrame(X_test_normal)\n",
    "print(\"Normalized X train:\", X_train_normal.head(10))\n",
    "print(\"Normalized X test:\",X_test_normal.head(10))"
   ]
  },
  {
   "cell_type": "markdown",
   "id": "fa769c0a",
   "metadata": {},
   "source": [
    "## Training the Logistic Regression model on the Training Set"
   ]
  },
  {
   "cell_type": "code",
   "execution_count": 91,
   "id": "04e343b7",
   "metadata": {},
   "outputs": [
    {
     "name": "stdout",
     "output_type": "stream",
     "text": [
      "The intercept b0=  [-4.98497464]\n",
      "The coefficient b1=  [[2.31479863 1.46611995 1.60077767 1.37726984 1.35613885 2.76471853\n",
      "  1.92988752 1.80420999 0.74381706]]\n"
     ]
    }
   ],
   "source": [
    "# Training the Logistic Regression model on the Training Set\n",
    "from sklearn.linear_model import LogisticRegression\n",
    "modelLogistic = LogisticRegression(random_state = 0)\n",
    "modelLogistic.fit(X_train_normal, Y_train)\n",
    "#print the regression coefficients\n",
    "print(\"The intercept b0= \", modelLogistic.intercept_)\n",
    "print(\"The coefficient b1= \", modelLogistic.coef_)  "
   ]
  },
  {
   "cell_type": "markdown",
   "id": "6d4af60e",
   "metadata": {},
   "source": [
    "## Predicting the Test set results"
   ]
  },
  {
   "cell_type": "code",
   "execution_count": 2,
   "id": "42a70bdd",
   "metadata": {},
   "outputs": [
    {
     "ename": "NameError",
     "evalue": "name 'modelLogistic' is not defined",
     "output_type": "error",
     "traceback": [
      "\u001b[1;31m---------------------------------------------------------------------------\u001b[0m",
      "\u001b[1;31mNameError\u001b[0m                                 Traceback (most recent call last)",
      "Cell \u001b[1;32mIn[2], line 1\u001b[0m\n\u001b[1;32m----> 1\u001b[0m y_test_pred \u001b[38;5;241m=\u001b[39m \u001b[43mmodelLogistic\u001b[49m\u001b[38;5;241m.\u001b[39mpredict(X_test_normal)\n\u001b[0;32m      2\u001b[0m \u001b[38;5;28mprint\u001b[39m(y_test_pred)\n\u001b[0;32m      3\u001b[0m \u001b[38;5;28mprint\u001b[39m(np\u001b[38;5;241m.\u001b[39mconcatenate((y_test_pred\u001b[38;5;241m.\u001b[39mreshape(\u001b[38;5;28mlen\u001b[39m(y_test_pred),\u001b[38;5;241m1\u001b[39m),Y_test\u001b[38;5;241m.\u001b[39mreshape(\u001b[38;5;28mlen\u001b[39m(Y_test),\u001b[38;5;241m1\u001b[39m)),\u001b[38;5;241m1\u001b[39m))\n",
      "\u001b[1;31mNameError\u001b[0m: name 'modelLogistic' is not defined"
     ]
    }
   ],
   "source": [
    "y_test_pred = modelLogistic.predict(X_test_normal)\n",
    "print(y_test_pred)\n",
    "print(np.concatenate((y_test_pred.reshape(len(y_test_pred),1),Y_test.reshape(len(Y_test),1)),1))"
   ]
  },
  {
   "cell_type": "code",
   "execution_count": 98,
   "id": "e35715fd",
   "metadata": {},
   "outputs": [
    {
     "name": "stdout",
     "output_type": "stream",
     "text": [
      "[[84  3]\n",
      " [ 5 45]]\n"
     ]
    },
    {
     "data": {
      "image/png": "[encoded data removed]",
      "text/plain": [
       "<Figure size 640x480 with 2 Axes>"
      ]
     },
     "metadata": {},
     "output_type": "display_data"
    }
   ],
   "source": [
    "# Confusion Matrix\n",
    "from sklearn.metrics import confusion_matrix, accuracy_score\n",
    "ConfusionMatrix = confusion_matrix(Y_test, y_test_pred)\n",
    "print(ConfusionMatrix)\n",
    "ax = sns.heatmap(ConfusionMatrix,annot=True,cmap='BuPu')\n",
    "ax.set_title('Confusion Matrix for Class');\n",
    "ax.set_xlabel('Prediction made for Class')\n",
    "ax.set_ylabel('Actual status of class');\n",
    "## Ticket labels – List must be in alphabetical order\n",
    "ax.xaxis.set_ticklabels(['2','4'])\n",
    "ax.yaxis.set_ticklabels(['2','4'])\n",
    "## Display the visualization of the Confusion Matrix.\n",
    "plt.show()"
   ]
  },
  {
   "cell_type": "code",
   "execution_count": 99,
   "id": "d164fa29",
   "metadata": {},
   "outputs": [
    {
     "name": "stdout",
     "output_type": "stream",
     "text": [
      "0.9416058394160584\n"
     ]
    }
   ],
   "source": [
    "print(accuracy_score(Y_test, y_test_pred))"
   ]
  },
  {
   "cell_type": "markdown",
   "id": "54eec43b",
   "metadata": {},
   "source": [
    "The accuracy rate of 94.16% is very high, meaning the logistic regression model is the good and fitted model."
   ]
  },
  {
   "cell_type": "markdown",
   "id": "2849c5c5",
   "metadata": {},
   "source": [
    "## Try Standardization "
   ]
  },
  {
   "cell_type": "code",
   "execution_count": 94,
   "id": "035ed5ed",
   "metadata": {},
   "outputs": [
    {
     "name": "stdout",
     "output_type": "stream",
     "text": [
      "Standized X train:           0         1         2         3         4         5         6  \\\n",
      "0  1.988395 -0.697811 -0.741526 -0.633637 -0.548720  1.815536  0.619074   \n",
      "1 -1.224684 -0.697811 -0.741526 -0.633637 -0.997897 -0.682796 -0.188607   \n",
      "2  0.203351 -0.697811 -0.741526 -0.633637 -0.548720 -0.682796 -0.188607   \n",
      "3 -0.510666 -0.697811 -0.404973 -0.633637 -0.548720 -0.682796 -0.592447   \n",
      "4  1.274378 -0.372444 -0.068420 -0.633637  1.247988 -0.127611  1.426754   \n",
      "5 -1.224684 -0.697811 -0.741526 -0.633637 -0.548720 -0.682796 -0.188607   \n",
      "6 -0.867675 -0.697811 -0.741526 -0.633637 -0.548720 -0.682796 -0.188607   \n",
      "7 -0.153658 -0.697811 -0.741526  0.075309 -0.997897 -0.682796 -0.592447   \n",
      "8  0.203351  1.254392  1.277791 -0.633637  0.798811  1.260351 -0.188607   \n",
      "9  1.274378  2.230493  2.287450  1.847676  1.247988  1.537943 -0.188607   \n",
      "\n",
      "          7         8  \n",
      "0  0.345321 -0.338637  \n",
      "1 -0.621578 -0.338637  \n",
      "2 -0.621578 -0.338637  \n",
      "3 -0.621578 -0.338637  \n",
      "4 -0.621578 -0.338637  \n",
      "5 -0.621578 -0.338637  \n",
      "6 -0.621578 -0.338637  \n",
      "7 -0.621578 -0.338637  \n",
      "8  0.345321 -0.338637  \n",
      "9  2.279119  4.765854  \n",
      "Standized X test:           0         1         2         3         4         5         6  \\\n",
      "0 -1.208343 -0.720172 -0.743031 -0.663180 -0.583582  0.296005 -1.012067   \n",
      "1 -0.515694 -0.720172 -0.743031 -0.663180 -0.583582 -0.764196 -0.582800   \n",
      "2  0.176954  0.604171  0.570456 -0.331590  0.779214  1.621257  0.275733   \n",
      "3 -0.169370  1.266343  1.555572  0.000000  0.324949  1.621257  2.422067   \n",
      "4 -1.208343 -0.720172 -0.743031 -0.663180 -0.583582 -0.764196 -1.012067   \n",
      "5 -0.515694 -0.058000 -0.743031 -0.663180 -0.583582 -0.764196 -1.012067   \n",
      "6  0.176954 -0.058000 -0.743031 -0.331590 -0.583582 -0.764196 -0.582800   \n",
      "7  1.215927  2.259601  2.212316  2.321129  1.687745  0.296005  0.275733   \n",
      "8 -1.208343 -0.720172 -0.743031  0.000000 -1.037847 -0.234096 -1.012067   \n",
      "9 -1.208343 -0.720172 -0.743031 -0.663180 -0.583582 -0.764196 -0.582800   \n",
      "\n",
      "          7         8  \n",
      "0 -0.579728 -0.392731  \n",
      "1 -0.579728 -0.392731  \n",
      "2  0.129403 -0.392731  \n",
      "3 -0.579728 -0.392731  \n",
      "4 -0.579728 -0.392731  \n",
      "5 -0.579728 -0.392731  \n",
      "6 -0.579728 -0.392731  \n",
      "7  1.902231  3.361046  \n",
      "8 -0.579728 -0.392731  \n",
      "9 -0.579728 -0.392731  \n"
     ]
    }
   ],
   "source": [
    "# Try Standardization\n",
    "from sklearn.preprocessing import StandardScaler\n",
    "scaler2 = StandardScaler()\n",
    "X_train_stand = scaler2.fit_transform(X_train)\n",
    "X_test_stand = scaler2.fit_transform(X_test)\n",
    "X_train_stand = pd.DataFrame(X_train_stand)\n",
    "X_test_stand = pd.DataFrame(X_test_stand)\n",
    "print(\"Standized X train:\", X_train_stand.head(10))\n",
    "print(\"Standized X test:\",X_test_stand.head(10))"
   ]
  },
  {
   "cell_type": "code",
   "execution_count": 95,
   "id": "49ffda1b",
   "metadata": {},
   "outputs": [
    {
     "name": "stdout",
     "output_type": "stream",
     "text": [
      "The intercept b0=  [-1.15196112]\n",
      "The coefficient b1=  [[1.14397509 0.19849412 0.58494288 0.64708178 0.51186677 1.3058281\n",
      "  0.98532234 0.78902716 0.43939809]]\n"
     ]
    }
   ],
   "source": [
    "# Training the Logistic Regression model on the Standized Training Set\n",
    "from sklearn.linear_model import LogisticRegression\n",
    "modelLogistic2 = LogisticRegression(random_state = 0)\n",
    "modelLogistic2.fit(X_train_stand, Y_train)\n",
    "#print the regression coefficients\n",
    "print(\"The intercept b0= \", modelLogistic2.intercept_)\n",
    "print(\"The coefficient b1= \", modelLogistic2.coef_)  "
   ]
  },
  {
   "cell_type": "code",
   "execution_count": 96,
   "id": "04ca7c80",
   "metadata": {},
   "outputs": [
    {
     "name": "stdout",
     "output_type": "stream",
     "text": [
      "[2 2 4 4 2 2 2 4 2 2 4 2 4 2 2 2 4 4 4 2 2 2 4 2 4 4 2 2 2 4 2 4 4 2 2 2 4\n",
      " 4 2 4 2 2 2 2 2 2 2 4 2 2 4 2 4 2 2 2 4 4 2 4 2 2 2 2 2 2 2 2 4 4 2 2 2 2\n",
      " 2 2 4 2 2 2 4 2 4 2 2 4 2 4 4 2 4 2 4 4 2 4 4 4 4 2 2 2 4 4 2 2 4 2 2 2 4\n",
      " 2 2 4 2 2 2 2 2 2 2 4 2 2 4 4 2 4 2 4 2 2 4 2 2 4 2]\n",
      "[[2 2]\n",
      " [2 2]\n",
      " [4 4]\n",
      " [4 4]\n",
      " [2 2]\n",
      " [2 2]\n",
      " [2 2]\n",
      " [4 4]\n",
      " [2 2]\n",
      " [2 2]\n",
      " [4 4]\n",
      " [2 2]\n",
      " [4 4]\n",
      " [2 2]\n",
      " [2 2]\n",
      " [2 2]\n",
      " [4 4]\n",
      " [4 4]\n",
      " [4 4]\n",
      " [2 2]\n",
      " [2 2]\n",
      " [2 2]\n",
      " [4 4]\n",
      " [2 2]\n",
      " [4 4]\n",
      " [4 4]\n",
      " [2 2]\n",
      " [2 2]\n",
      " [2 2]\n",
      " [4 4]\n",
      " [2 2]\n",
      " [4 4]\n",
      " [4 4]\n",
      " [2 2]\n",
      " [2 2]\n",
      " [2 2]\n",
      " [4 4]\n",
      " [4 4]\n",
      " [2 2]\n",
      " [4 4]\n",
      " [2 2]\n",
      " [2 2]\n",
      " [2 2]\n",
      " [2 2]\n",
      " [2 2]\n",
      " [2 2]\n",
      " [2 2]\n",
      " [4 4]\n",
      " [2 2]\n",
      " [2 2]\n",
      " [4 4]\n",
      " [2 2]\n",
      " [4 4]\n",
      " [2 2]\n",
      " [2 2]\n",
      " [2 2]\n",
      " [4 4]\n",
      " [4 2]\n",
      " [2 2]\n",
      " [4 4]\n",
      " [2 2]\n",
      " [2 2]\n",
      " [2 2]\n",
      " [2 2]\n",
      " [2 2]\n",
      " [2 2]\n",
      " [2 2]\n",
      " [2 2]\n",
      " [4 4]\n",
      " [4 4]\n",
      " [2 2]\n",
      " [2 2]\n",
      " [2 2]\n",
      " [2 2]\n",
      " [2 2]\n",
      " [2 2]\n",
      " [4 4]\n",
      " [2 2]\n",
      " [2 2]\n",
      " [2 2]\n",
      " [4 4]\n",
      " [2 2]\n",
      " [4 4]\n",
      " [2 2]\n",
      " [2 2]\n",
      " [4 4]\n",
      " [2 2]\n",
      " [4 2]\n",
      " [4 4]\n",
      " [2 2]\n",
      " [4 4]\n",
      " [2 2]\n",
      " [4 4]\n",
      " [4 4]\n",
      " [2 4]\n",
      " [4 2]\n",
      " [4 4]\n",
      " [4 4]\n",
      " [4 4]\n",
      " [2 2]\n",
      " [2 2]\n",
      " [2 2]\n",
      " [4 4]\n",
      " [4 4]\n",
      " [2 2]\n",
      " [2 2]\n",
      " [4 4]\n",
      " [2 4]\n",
      " [2 2]\n",
      " [2 2]\n",
      " [4 4]\n",
      " [2 2]\n",
      " [2 2]\n",
      " [4 4]\n",
      " [2 2]\n",
      " [2 2]\n",
      " [2 2]\n",
      " [2 4]\n",
      " [2 2]\n",
      " [2 2]\n",
      " [2 2]\n",
      " [4 4]\n",
      " [2 2]\n",
      " [2 2]\n",
      " [4 4]\n",
      " [4 4]\n",
      " [2 2]\n",
      " [4 4]\n",
      " [2 2]\n",
      " [4 4]\n",
      " [2 2]\n",
      " [2 2]\n",
      " [4 4]\n",
      " [2 2]\n",
      " [2 2]\n",
      " [4 4]\n",
      " [2 2]]\n"
     ]
    }
   ],
   "source": [
    "y_test_pred2 = modelLogistic2.predict(X_test_stand)\n",
    "print(y_test_pred2)\n",
    "print(np.concatenate((y_test_pred2.reshape(len(y_test_pred2),1),Y_test.reshape(len(Y_test),1)),1))"
   ]
  },
  {
   "cell_type": "code",
   "execution_count": 100,
   "id": "2bf8f6bc",
   "metadata": {},
   "outputs": [
    {
     "name": "stdout",
     "output_type": "stream",
     "text": [
      "[[84  3]\n",
      " [ 3 47]]\n"
     ]
    },
    {
     "data": {
      "image/png": "[encoded data removed]",
      "text/plain": [
       "<Figure size 640x480 with 2 Axes>"
      ]
     },
     "metadata": {},
     "output_type": "display_data"
    }
   ],
   "source": [
    "# Confusion Matrix2\n",
    "from sklearn.metrics import confusion_matrix, accuracy_score\n",
    "CM2 = confusion_matrix(Y_test, y_test_pred2)\n",
    "print(CM2)\n",
    "ax = sns.heatmap(CM2,annot=True,cmap='BuPu')\n",
    "ax.set_title('Confusion Matrix for Class');\n",
    "ax.set_xlabel('Prediction made for Class')\n",
    "ax.set_ylabel('Actual status of class');\n",
    "## Ticket labels – List must be in alphabetical order\n",
    "ax.xaxis.set_ticklabels(['2','4'])\n",
    "ax.yaxis.set_ticklabels(['2','4'])\n",
    "## Display the visualization of the Confusion Matrix.\n",
    "plt.show()"
   ]
  },
  {
   "cell_type": "code",
   "execution_count": 101,
   "id": "af88cd78",
   "metadata": {},
   "outputs": [
    {
     "name": "stdout",
     "output_type": "stream",
     "text": [
      "0.9562043795620438\n"
     ]
    }
   ],
   "source": [
    "print(accuracy_score(Y_test, y_test_pred2))"
   ]
  },
  {
   "cell_type": "markdown",
   "id": "b946be03",
   "metadata": {},
   "source": [
    "After standization, the accurcacy rate is higer than the normalization data, meaning the standardization is better than the normalization. (There are other possible factors that influence on the result, but I am not going to analyze so deeply here. )"
   ]
  }
 ],
 "metadata": {
  "kernelspec": {
   "display_name": "Python 3 (ipykernel)",
   "language": "python",
   "name": "python3"
  },
  "language_info": {
   "codemirror_mode": {
    "name": "ipython",
    "version": 3
   },
   "file_extension": ".py",
   "mimetype": "text/x-python",
   "name": "python",
   "nbconvert_exporter": "python",
   "pygments_lexer": "ipython3",
   "version": "3.10.9"
  }
 },
 "nbformat": 4,
 "nbformat_minor": 5
}
